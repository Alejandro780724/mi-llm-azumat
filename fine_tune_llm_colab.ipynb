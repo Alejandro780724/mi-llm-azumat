{
  "cells": [
    {
      "cell_type": "markdown",
      "metadata": {},
      "source": [
        "# 🧠 Entrena tu propio LLM con datos de tu empresa\n",
        "Este notebook te permite:\n",
        "- Subir tus datos en formato JSON\n",
        "- Fine-tunar un modelo base (Llama 3)\n",
        "- Guardarlo en formato GGUF compatible con LM Studio"
      ]
    },
    {
      "cell_type": "code",
      "execution_count": null,
      "metadata": {},
      "outputs": [],
      "source": [
        "# 🛠️ Paso 1: Instalar dependencias\n",
        "!pip install torch transformers datasets peft trl accelerate bitsandbytes ctransformers lm_dataformat"
      ]
    },
    {
      "cell_type": "code",
      "execution_count": null,
      "metadata": {},
      "outputs": [],
      "source": [
        "# 📁 Paso 2: Subir tu archivo JSON con los datos de tu empresa\n",
        "from google.colab import files\n",
        "\n",
        "print(\"Sube tu archivo 'datos_empresa.json'\")\n",
        "uploaded = files.upload()"
      ]
    },
    {
      "cell_type": "code",
      "execution_count": null,
      "metadata": {},
      "outputs": [],
      "source": [
        "# 🧪 Paso 3: Cargar modelo base (Llama 3 optimizado)\n",
        "from transformers import AutoTokenizer, AutoModelForCausalLM\n",
        "from peft import LoraConfig, get_peft_model\n",
        "\n",
        "model_name = \"unsloth/llama-3-8b-bnb-4bit\"\n",
        "tokenizer = AutoTokenizer.from_pretrained(model_name)\n",
        "model = AutoModelForCausalLM.from_pretrained(model_name, device_map=\"auto\")"
      ]
    },
    {
      "cell_type": "code",
      "execution_count": null,
      "metadata": {},
      "outputs": [],
      "source": [
        "# 📊 Paso 4: Preparar los datos\n",
        "from datasets import load_dataset\n",
        "\n",
        "dataset = load_dataset('json', data_files='datos_empresa.json')\n",
        "\n",
        "def format_data(examples):\n",
        "    inputs = [f\"### Pregunta:\\n{q}\\n\\n### Respuesta:\\n{a}\" for q, a in zip(examples[\"input\"], examples[\"output\"])]\n",
        "    model_inputs = tokenizer(inputs, max_length=512, truncation=True, padding=\"max_length\")\n",
        "    labels = tokenizer(examples[\"output\"], max_length=256, truncation=True, padding=\"max_length\").input_ids\n",
        "    model_inputs[\"labels\"] = labels\n",
        "    return model_inputs\n",
        "\n",
        "tokenized_datasets = dataset.map(format_data, batched=True)"
      ]
    },
    {
      "cell_type": "code",
      "execution_count": null,
      "metadata": {},
      "outputs": [],
      "source": [
        "# 🔧 Paso 5: Configurar fine-tuning con LoRA\n",
        "peft_config = LoraConfig(\n",
        "    r=16,\n",
        "    lora_alpha=16,\n",
        "    target_modules=[\"q_proj\", \"k_proj\", \"v_proj\", \"o_proj\"],\n",
        "    lora_dropout=0.05,\n",
        "    bias=\"none\",\n",
        "    task_type=\"CAUSAL_LM\"\n",
        ")\n",
        "\n",
        "model = get_peft_model(model, peft_config)"
      ]
    },
    {
      "cell_type": "code",
      "execution_count": null,
      "metadata": {},
      "outputs": [],
      "source": [
        "# 🏋️‍♂️ Paso 6: Entrenamiento\n",
        "from transformers import TrainingArguments, Trainer\n",
        "\n",
        "training_args = TrainingArguments(\n",
        "    output_dir=\"./modelo_empresa\",\n",
        "    per_device_train_batch_size=1,\n",
        "    gradient_accumulation_steps=4,\n",
        "    learning_rate=3e-4,\n",
        "    logging_steps=10,\n",
        "    num_train_epochs=3,\n",
        "    save_strategy=\"epoch\",\n",
        "    report_to=\"none\"\n",
        ")\n",
        "\n",
        "trainer = Trainer(\n",
        "    model=model,\n",
        "    args=training_args,\n",
        "    train_dataset=tokenized_datasets[\"train\"],\n",
        ")\n",
        "\n",
        "print(\"🚀 Iniciando entrenamiento...\")\n",
        "trainer.train()"
      ]
    },
    {
      "cell_type": "code",
      "execution_count": null,
      "metadata": {},
      "outputs": [],
      "source": [
        "# 💾 Paso 7: Guardar modelo ajustado\n",
        "model.save_pretrained(\"./modelo_empresa_final\")\n",
        "tokenizer.save_pretrained(\"./modelo_empresa_final\")"
      ]
    },
    {
      "cell_type": "code",
      "execution_count": null,
      "metadata": {},
      "outputs": [],
      "source": [
        "# 🧱 Paso 8: Convertir a GGUF (formato LM Studio)\n",
        "from ctransformers import convert\n",
        "\n",
        "convert(\"./modelo_empresa_final\", \"./modelo_empresa_gguf\", model_type=\"llama\")"
      ]
    },
    {
      "cell_type": "code",
      "execution_count": null,
      "metadata": {},
      "outputs": [],
      "source": [
        "# 📥 Paso 9: Comprimir y descargar el modelo\n",
        "!zip -r modelo_empresa_gguf.zip ./modelo_empresa_gguf\n",
        "\n",
        "from google.colab import files\n",
        "print(\"📦 Descargando modelo ajustado:\")\n",
        "files.download(\"modelo_empresa_gguf.zip\")"
      ]
    }
  ],
  "metadata": {
    "colab": {
      "provenance": []
    },
    "kernelspec": {
      "display_name": "Python 3",
      "name": "python3"
    },
    "language_info": {
      "name": "python"
    }
  },
  "nbformat": 4,
  "nbformat_minor": 5
}